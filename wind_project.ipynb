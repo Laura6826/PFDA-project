{
 "cells": [
  {
   "cell_type": "markdown",
   "metadata": {},
   "source": [
    "# <span style=\"color:orange\"> Analysis of windspeeds in Ireland, and the associated impacts on the windfarm industry.<span>\n",
    "*By Laura Lyons*\n",
    "***\n",
    "\n",
    "This project was submitted as part of the module Programming for Data Analytics 24-25: 4369., Higher Diploma in Science, Data Analytics\n"
   ]
  },
  {
   "cell_type": "markdown",
   "metadata": {},
   "source": [
    "## <span style=\"color:orange\"> Table of contents<span>\n",
    "***\n",
    "1. [Introduction](#10-introduction)\n",
    "2. [Method](#2-methods)\\\n",
    "   2.1. [Prerequisites/ Imports](#21-prerequisites-imports)\\\n",
    "   2.2. [Load the Data](#23-load-the-data)\n",
    "3. [Results](#30-results)\\\n",
    "   3.1 [Data Overiew](#32-data-clean-up)\\\n",
    "   3.2 [Data Clean-up](#32-data-clean-up)\\\n",
    "   3.3 [Data Analysis](#33-data-analysis)\\\n",
    "   3.4 [Data Correlation](#34-data-correlation)\\\n",
    "   3.5 [Regression Analysis](#35-regression-analysis)\n",
    "4. [Discussion and Conclusion](#4-discussion-and-conclusions)\n",
    "5. [References](#references)"
   ]
  },
  {
   "cell_type": "markdown",
   "metadata": {},
   "source": [
    "## <span style=\"color:orange\"> **1.    Introduction**<span>\n",
    "***\n",
    "Wind-generated energy is becoming increasingly important in Ireland for several key reasons:\n",
    "\n",
    "1. **Renewable Energy Targets and Climate Action**: Ireland is committed to reducing its carbon emissions and increasing the share of renewable energy in its electricity generation. Wind energy plays a central role in achieving these climate targets. As a clean, renewable resource, wind energy helps to cut down on greenhouse gas emissions and reduces Ireland's reliance on fossil fuels.\n",
    "\n",
    "2. **Abundant Wind Resources**: Ireland benefits from strong, consistent winds, particularly along its coastal areas. This makes it an ideal location for both onshore and offshore wind farms. Ireland's geographic location offers significant potential to harness wind energy, with offshore wind especially promising due to stronger and more reliable winds at sea.\n",
    "\n",
    "3. **Energy Security**: Wind energy helps improve Ireland’s energy security by reducing its dependency on imported fossil fuels. Wind-generated power is produced domestically, which helps safeguard the country against global energy supply disruptions and fluctuations in fossil fuel prices.\n",
    "\n",
    "4. **Economic Growth and Job Creation**: The wind energy sector has become an important driver of economic growth in Ireland. It creates jobs in manufacturing, installation, and maintenance of wind turbines, as well as in the broader supply chain. Ireland is also positioning itself as a leader in offshore wind energy, opening up new economic opportunities, including exports of green energy.\n",
    "\n",
    "5. **EU Support and Policy Alignment**: As part of its commitments to the European Union’s Green Deal and energy transition, Ireland is receiving EU funding and policy support to invest in renewable energy infrastructure. Wind energy is a key element of this strategy, as it helps the EU meet its collective climate goals and ensure a transition to a low-carbon economy.\n",
    "\n",
    "6. **Public and Political Support**: There is growing public and political support for wind energy in Ireland, driven by a desire to combat climate change and invest in sustainable technologies. Both the government and the public recognize the long-term benefits of investing in renewable energy to create a more resilient and sustainable energy system.\n",
    "\n",
    "In summary, wind energy is becoming increasingly vital in Ireland due to its environmental benefits, abundant natural resources, potential for economic growth, and alignment with both national and EU energy goals.\n",
    "\n",
    "It seems like I can’t do more browsing right now. Please try again later. However, I can guide you based on general knowledge and reputable sources up to the present.\n",
    "\n",
    "For references, here are some well-known reports and publications that support the points I mentioned earlier:\n",
    "\n",
    "1. **Climate Action Plan 2023** (Irish Government) - This document outlines Ireland’s renewable energy targets and the pivotal role of wind energy in reducing carbon emissions. The Irish government has committed to producing 80% of the country’s electricity from renewable sources by 2030, with wind energy at the forefront. [Government of Ireland](https://www.gov.ie/en/publication/3cbe6-climate-action-plan-2023/).\n",
    "\n",
    "2. **Wind Energy Ireland** - Wind Energy Ireland is a key organization that advocates for the growth of wind energy in the country. They provide regular reports on wind energy capacity, employment, and the benefits of wind generation for Ireland. Their resources can be found at [Wind Energy Ireland](https://www.windenergyireland.com).\n",
    "\n",
    "3. **The European Union’s Green Deal and Energy Strategy** - The EU's policies, including the European Green Deal, have strongly influenced Ireland's energy transition towards renewables. The EU's clean energy goals include major investments in wind energy, and Ireland is a key player in achieving these targets. [European Commission](https://ec.europa.eu/info/business-economy-euro/banking-and-finance/sustainable-finance_en).\n",
    "\n",
    "4. **SEAI (Sustainable Energy Authority of Ireland)** - SEAI reports regularly on Ireland's renewable energy progress, including the country’s vast potential for wind energy. Their findings can provide further insights into the role of wind energy in Ireland’s future. [SEAI](https://www.seai.ie).\n",
    "\n",
    "These sources should provide in-depth details and data regarding the growing importance of wind energy in Ireland.\n",
    "The power in the wind is given by the following equation:\n",
    "\n",
    "$$Power (W) = 1/2  .  ρ  . A  .  v3$$\n",
    "\n",
    "- Power = Watts\n",
    "- ρ (rho, a Greek letter) = density of the air in kg/m<sup>3</sup>\n",
    "- A = cross-sectional area of the wind in m<sup>2</sup>\n",
    "- v = velocity of the wind in m/s\n",
    "\n",
    "If:\n",
    "- The standard density of air is 1.225 kg/m<sup>3</sup> [(Helmenstine, A., 2024)](https://www.thoughtco.com/density-of-air-at-stp-607546density).\n",
    "- The turbine has a 24 m diameter, which means the radius is 12 m. Thus, the swept area of the turbine is: (pi)r2 = 3.14159(122) = 452.4 m<sup>2</sup>\n",
    "\n",
    "[(John A. Dutton e-Education Institute, 2024)](https://www.e-education.psu.edu/emsc297/node/649)"
   ]
  },
  {
   "cell_type": "markdown",
   "metadata": {},
   "source": [
    "## <span style=\"color:orange\"> **2.    Methods** <span>\n",
    "***\n",
    "\n",
    "The approach used to anayise the data set for this project, involved analysing the data by generating a data overview, 'cleaning-up'the data, analysing the data, including any significant correlations and/or regressions. \n",
    "\n",
    "#### <span style=\"color:orange\">2.1    Prerequisites/ Imports <span>\n",
    "\n",
    "A number of imports were used to help with the data analysis and visualisation.\n",
    "\n",
    "1. **Pandas**: was used for the DataFrame structure and for storing, manipulating and working with structured data. It allows us to investigate CSV files, amongst other features.\n",
    "1. **NumPy**: as it creates efficient data structures for dealing with numerical data in python. Reference Lecture 5. Module Principles of Data Analytics.\n",
    "1. **Matplotlib.pyplot:** for creating plots.\n",
    "1. **Seaborn**: matplotlib sub-library for creating attractive data visualisation.\n",
    "1. **datetime**: supplies classes for [manipulating dates and times](https://docs.python.org/3/library/datetime.html)."
   ]
  },
  {
   "cell_type": "code",
   "execution_count": 1,
   "metadata": {},
   "outputs": [],
   "source": [
    "# Import Data frames\n",
    "import pandas as pd\n",
    "import numpy as np\n",
    "import matplotlib.pyplot as plt\n",
    "import seaborn as sns\n",
    "import datetime as dt"
   ]
  },
  {
   "cell_type": "markdown",
   "metadata": {},
   "source": [
    "***\n",
    "#### <span style=\"color:orange\"> 2.3   Load the Data<span>\n",
    "The wind data set was loaded from a [URL](). This URL was choosen as the headings for the variables are predefinied, with the unit of measurement included.\n",
    "\n",
    "Once the data was loaded, it allowed analysis/ investigate the data to begin."
   ]
  }
 ],
 "metadata": {
  "kernelspec": {
   "display_name": "base",
   "language": "python",
   "name": "python3"
  },
  "language_info": {
   "codemirror_mode": {
    "name": "ipython",
    "version": 3
   },
   "file_extension": ".py",
   "mimetype": "text/x-python",
   "name": "python",
   "nbconvert_exporter": "python",
   "pygments_lexer": "ipython3",
   "version": "3.12.4"
  }
 },
 "nbformat": 4,
 "nbformat_minor": 2
}
